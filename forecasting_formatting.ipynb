{
 "cells": [
  {
   "cell_type": "code",
   "execution_count": 1,
   "id": "59af5944-a6e2-4ae2-8a5e-103a0c20eb0f",
   "metadata": {},
   "outputs": [],
   "source": [
    "import pandas as pd"
   ]
  },
  {
   "cell_type": "code",
   "execution_count": 8,
   "id": "575f43c6-be58-4ce1-a08a-ed8e9cf4b18c",
   "metadata": {},
   "outputs": [],
   "source": [
    "forecast_df = pd.read_csv('forecast.csv')[['date', 'store', 'item', 'forecast']]\n",
    "test_df = pd.read_csv('test.csv')"
   ]
  },
  {
   "cell_type": "code",
   "execution_count": 7,
   "id": "653f228e-d6cc-40ae-8123-7f7bb0a57882",
   "metadata": {},
   "outputs": [
    {
     "data": {
      "text/html": [
       "<div>\n",
       "<style scoped>\n",
       "    .dataframe tbody tr th:only-of-type {\n",
       "        vertical-align: middle;\n",
       "    }\n",
       "\n",
       "    .dataframe tbody tr th {\n",
       "        vertical-align: top;\n",
       "    }\n",
       "\n",
       "    .dataframe thead th {\n",
       "        text-align: right;\n",
       "    }\n",
       "</style>\n",
       "<table border=\"1\" class=\"dataframe\">\n",
       "  <thead>\n",
       "    <tr style=\"text-align: right;\">\n",
       "      <th></th>\n",
       "      <th>date</th>\n",
       "      <th>store</th>\n",
       "      <th>item</th>\n",
       "      <th>forecast</th>\n",
       "    </tr>\n",
       "  </thead>\n",
       "  <tbody>\n",
       "    <tr>\n",
       "      <th>0</th>\n",
       "      <td>2018-01-01</td>\n",
       "      <td>1</td>\n",
       "      <td>1</td>\n",
       "      <td>17.691709</td>\n",
       "    </tr>\n",
       "    <tr>\n",
       "      <th>1</th>\n",
       "      <td>2018-01-02</td>\n",
       "      <td>1</td>\n",
       "      <td>1</td>\n",
       "      <td>15.904649</td>\n",
       "    </tr>\n",
       "    <tr>\n",
       "      <th>2</th>\n",
       "      <td>2018-01-03</td>\n",
       "      <td>1</td>\n",
       "      <td>1</td>\n",
       "      <td>17.158710</td>\n",
       "    </tr>\n",
       "    <tr>\n",
       "      <th>3</th>\n",
       "      <td>2018-01-04</td>\n",
       "      <td>1</td>\n",
       "      <td>1</td>\n",
       "      <td>15.733811</td>\n",
       "    </tr>\n",
       "    <tr>\n",
       "      <th>4</th>\n",
       "      <td>2018-01-05</td>\n",
       "      <td>1</td>\n",
       "      <td>1</td>\n",
       "      <td>15.225072</td>\n",
       "    </tr>\n",
       "    <tr>\n",
       "      <th>...</th>\n",
       "      <td>...</td>\n",
       "      <td>...</td>\n",
       "      <td>...</td>\n",
       "      <td>...</td>\n",
       "    </tr>\n",
       "    <tr>\n",
       "      <th>182495</th>\n",
       "      <td>2018-12-27</td>\n",
       "      <td>10</td>\n",
       "      <td>50</td>\n",
       "      <td>70.563776</td>\n",
       "    </tr>\n",
       "    <tr>\n",
       "      <th>182496</th>\n",
       "      <td>2018-12-28</td>\n",
       "      <td>10</td>\n",
       "      <td>50</td>\n",
       "      <td>61.609245</td>\n",
       "    </tr>\n",
       "    <tr>\n",
       "      <th>182497</th>\n",
       "      <td>2018-12-29</td>\n",
       "      <td>10</td>\n",
       "      <td>50</td>\n",
       "      <td>64.179126</td>\n",
       "    </tr>\n",
       "    <tr>\n",
       "      <th>182498</th>\n",
       "      <td>2018-12-30</td>\n",
       "      <td>10</td>\n",
       "      <td>50</td>\n",
       "      <td>62.749123</td>\n",
       "    </tr>\n",
       "    <tr>\n",
       "      <th>182499</th>\n",
       "      <td>2018-12-31</td>\n",
       "      <td>10</td>\n",
       "      <td>50</td>\n",
       "      <td>67.359514</td>\n",
       "    </tr>\n",
       "  </tbody>\n",
       "</table>\n",
       "<p>182500 rows × 4 columns</p>\n",
       "</div>"
      ],
      "text/plain": [
       "              date  store  item   forecast\n",
       "0       2018-01-01      1     1  17.691709\n",
       "1       2018-01-02      1     1  15.904649\n",
       "2       2018-01-03      1     1  17.158710\n",
       "3       2018-01-04      1     1  15.733811\n",
       "4       2018-01-05      1     1  15.225072\n",
       "...            ...    ...   ...        ...\n",
       "182495  2018-12-27     10    50  70.563776\n",
       "182496  2018-12-28     10    50  61.609245\n",
       "182497  2018-12-29     10    50  64.179126\n",
       "182498  2018-12-30     10    50  62.749123\n",
       "182499  2018-12-31     10    50  67.359514\n",
       "\n",
       "[182500 rows x 4 columns]"
      ]
     },
     "execution_count": 7,
     "metadata": {},
     "output_type": "execute_result"
    }
   ],
   "source": [
    "forecast_df"
   ]
  },
  {
   "cell_type": "code",
   "execution_count": 20,
   "id": "f701585a-4ba5-44fd-8ddd-87bbac6194bb",
   "metadata": {},
   "outputs": [],
   "source": [
    "submission_df = pd.merge(test_df, forecast_df, how='inner', on=['date', 'store', 'item'])[['id', 'forecast']]\n",
    "submission_df.rename(columns={'forecast':'sales'}, inplace=True)\n",
    "submission_df.sales = submission_df.sales.astype('int32')\n",
    "submission_df.set_index(['id'], inplace=True)"
   ]
  },
  {
   "cell_type": "code",
   "execution_count": 21,
   "id": "eac9e6de-7deb-4325-bcbe-76b4a2c4080e",
   "metadata": {},
   "outputs": [],
   "source": [
    "submission_df.to_csv('submission_arima_basic.csv')"
   ]
  },
  {
   "cell_type": "code",
   "execution_count": null,
   "id": "b2cc86c9-21a4-470b-b85e-4029c86b7ed2",
   "metadata": {},
   "outputs": [],
   "source": []
  }
 ],
 "metadata": {
  "kernelspec": {
   "display_name": "Python 3 (ipykernel)",
   "language": "python",
   "name": "python3"
  },
  "language_info": {
   "codemirror_mode": {
    "name": "ipython",
    "version": 3
   },
   "file_extension": ".py",
   "mimetype": "text/x-python",
   "name": "python",
   "nbconvert_exporter": "python",
   "pygments_lexer": "ipython3",
   "version": "3.10.6"
  }
 },
 "nbformat": 4,
 "nbformat_minor": 5
}
